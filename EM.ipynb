{
 "cells": [
  {
   "cell_type": "code",
   "execution_count": 1,
   "id": "aa8c2ba0",
   "metadata": {},
   "outputs": [],
   "source": [
    "import numpy as np\n",
    "import scipy as sp\n",
    "import matplotlib.pyplot as plt\n",
    "%matplotlib inline"
   ]
  },
  {
   "cell_type": "markdown",
   "id": "fb6b6e90",
   "metadata": {},
   "source": [
    "Gaussian Mixture\n",
    "\n",
    "$\\{x_n\\}$ are observed, each with a corresponding $z_n$ that takes value 0 or 1. If $z_{nk} = 1$ means $x_n$ belongs to cluster $k$. \n",
    "\n",
    "With one datapoint $x$ and the corresponding $z$, let's just write down some useful quantities:\n",
    "$$\n",
    "\\begin{align*}\n",
    "p(z_k = 1) &= \\pi_k\\\\\n",
    "p(x\\mid z_k = 1) &= \\mathcal{N}(x; \\mu_k, \\Sigma_k)\\\\\n",
    "p(x) &= \\sum_k p(x\\mid z_k = 1) p(z_k = 1)\\\\\n",
    "&=\\sum_k \\pi_k\\mathcal{N}(x;\\mu_k, \\Sigma_k)\\\\\n",
    "p(z_k = 1\\mid x) &= \\frac{p(x\\mid z_k = 1)p(z_k = 1)}{p(x)}\\\\\n",
    "&=\\frac{\\pi_k\\mathcal{N}(x;\\mu_k, \\Sigma_k)}{\\sum_j \\pi_j\\mathcal{N}(x;\\mu_j, \\Sigma_j)}\\\\\n",
    "&=\\gamma(z_k)\n",
    "\\end{align*}\n",
    "$$\n",
    "\n",
    "The log-likelihood, where $\\theta = \\{\\mu, \\Sigma, \\pi\\}$:\n",
    "$$\n",
    "\\begin{align*}\n",
    "\\mathcal{LL} &= \\log p(X\\mid \\theta) = \\log \\prod_N p(x_n\\mid \\theta)\\\\\n",
    "&=\\sum_N \\log \\sum_K \\pi_k\\mathcal{N}(x_n;\\mu_k, \\Sigma_k)\n",
    "\\end{align*}\n",
    "$$\n",
    "\n",
    "Partial derivative against $\\mu_k$:\n",
    "$$\n",
    "\\begin{align*}\n",
    "\\frac{\\partial \\mathcal{LL}}{\\partial \\mu_k} &=\\sum_N \\frac{1}{\\sum_K \\pi_k\\mathcal{N}(x_n;\\mu_k, \\Sigma_k)} \\frac{\\partial \\ \\pi_k\\mathcal{N}(x_n;\\mu_k, \\Sigma_k)}{\\partial \\mu_k} \\\\\n",
    "&=\\sum_N \\frac{\\pi_k\\mathcal{N}(x_n;\\mu_k, \\Sigma_k)}{\\sum_K \\pi_k\\mathcal{N}(x_n;\\mu_k, \\Sigma_k)} \\Sigma^{-1}(x_n - \\mu_k) \\\\\n",
    "&=\\Sigma^{-1}\\sum_N \\gamma(z_{nk}) (x_n - \\mu_k) \n",
    "\\end{align*}\n",
    "$$\n",
    "Set to 0:\n",
    "$$\n",
    "\\begin{align*}\n",
    "\\Sigma^{-1}\\sum_N \\gamma(z_{nk}) (x_n - \\mu_k) &= 0\\\\\n",
    "\\sum_N \\gamma(z_{nk}) x_n  &= \\mu_k\\sum_N \\gamma(z_{nk})\\\\\n",
    "\\mu_k &= \\frac{1}{\\sum_N \\gamma(z_{nk})}\\sum_N \\gamma(z_{nk}) x_n\\\\\n",
    "\\mu_k^\\text{new} &= \\frac{1}{N_k}\\sum_N \\gamma(z_{nk}) x_n\n",
    "\\end{align*}\n",
    "$$\n",
    "\n",
    "Doing similar calculations for $\\Sigma$ and $\\pi$, (though $\\pi$ needs to sum to 1 with lagrange multiplier):\n",
    "$$\n",
    "\\begin{align*}\n",
    "\\Sigma_k^\\text{new} &= \\frac{1}{N_k}\\sum_N \\gamma(z_{nk})(x_n - \\mu_k^\\text{new})(x_n - \\mu_k^\\text{new})^T\\\\\n",
    "\\pi_k^\\text{new} &= \\frac{N_k}{N}\n",
    "\\end{align*}\n",
    "$$"
   ]
  },
  {
   "cell_type": "markdown",
   "id": "abeebb61",
   "metadata": {},
   "source": [
    "In the previous block, the $\\gamma(z_{nk})$ quantity is of special interest. It can be seen as a $N\\times K$ matrix of $z$-values, and the $\\gamma$ function is picking them out. Each row of the matrix sum to 1 (i.e. $\\sum_k \\gamma(z_{nk}) = 1$) and each column sum to $N_k = \\sum_n \\gamma(z_{nk})$. Row $n$ shows how likely $x_n$ belongs to each cluster and $N_k$ is the \"number\" of points assigned to cluter $k$."
   ]
  },
  {
   "cell_type": "markdown",
   "id": "77af1215",
   "metadata": {},
   "source": [
    "1. E: evaluate $\\gamma$ fixing $\\theta$\n",
    "2. M: new $\\theta$ using update rules\n",
    "3. Evaluate likelihood"
   ]
  },
  {
   "cell_type": "code",
   "execution_count": 67,
   "id": "14014e2b",
   "metadata": {},
   "outputs": [],
   "source": [
    "np.random.seed(42)\n",
    "# Generate data following the generative process\n",
    "_m0, _cov0 = [-3, -3], [[0.5, 0], [0, 3]]\n",
    "_m1, _cov1 = [0, 0], [[3, 0], [0, 0.5]]\n",
    "_m2, _cov2 = [3, 3], [[0.5, 0], [0, 3]]\n",
    "_pi = [0.25, 0.5, 0.25]\n",
    "\n",
    "X = []\n",
    "c = []\n",
    "N = 100\n",
    "for _ in range(N):\n",
    "    k = np.random.choice([0, 1, 2], p=_pi)\n",
    "    c.append(k)\n",
    "    X.append(np.random.multivariate_normal(globals()[f'_m{k}'], globals()[f'_cov{k}'], 1)[0])\n",
    "X = np.array(X)"
   ]
  },
  {
   "cell_type": "code",
   "execution_count": 68,
   "id": "94e2c13e",
   "metadata": {},
   "outputs": [
    {
     "data": {
      "text/plain": [
       "<matplotlib.collections.PathCollection at 0x7f822c5b6490>"
      ]
     },
     "execution_count": 68,
     "metadata": {},
     "output_type": "execute_result"
    },
    {
     "data": {
      "image/png": "[encoded data removed]",
      "text/plain": [
       "<Figure size 432x288 with 1 Axes>"
      ]
     },
     "metadata": {
      "needs_background": "light"
     },
     "output_type": "display_data"
    }
   ],
   "source": [
    "plt.scatter(X[:,0], X[:,1], c=c)"
   ]
  },
  {
   "cell_type": "code",
   "execution_count": 109,
   "id": "65baf8bc",
   "metadata": {},
   "outputs": [],
   "source": [
    "# Init to 3 unit gaussian equally spaced\n",
    "m0, cov0 = [-1, 0], [[1, 0], [0, 1]]\n",
    "m1, cov1 = [0, 0], [[1, 0], [0, 1]]\n",
    "m2, cov2 = [1, 0], [[1, 0], [0, 1]]\n",
    "pi = [0.333, 0.333, 0.333]\n",
    "K = 3"
   ]
  },
  {
   "cell_type": "code",
   "execution_count": 110,
   "id": "ca431126",
   "metadata": {},
   "outputs": [],
   "source": [
    "from scipy.stats import multivariate_normal\n",
    "p0 = p1 = p2 = None\n",
    "def update_normal():\n",
    "    global p0, p1, p2\n",
    "    p0 = multivariate_normal(mean=m0, cov=cov0)\n",
    "    p1 = multivariate_normal(mean=m1, cov=cov1)\n",
    "    p2 = multivariate_normal(mean=m2, cov=cov2)"
   ]
  },
  {
   "cell_type": "markdown",
   "id": "0de15713",
   "metadata": {},
   "source": [
    "Evaluate likelihood:\n",
    "\n",
    "$$\n",
    "\\begin{align*}\n",
    "\\mathcal{LL} =\\sum_N \\log  \\sum_K \\pi_k\\mathcal{N}(x_n;\\mu_k, \\Sigma_k)\n",
    "\\end{align*}\n",
    "$$"
   ]
  },
  {
   "cell_type": "code",
   "execution_count": 111,
   "id": "d1c29c52",
   "metadata": {},
   "outputs": [],
   "source": [
    "def evaluate():\n",
    "    LL = []\n",
    "    for n in range(N):\n",
    "        acc = 0\n",
    "        for k in range(K):\n",
    "            v = pi[k] * globals()[f'p{k}'].pdf(X[n])\n",
    "            acc += v\n",
    "        LL.append(acc)\n",
    "    return np.sum(np.log(LL))"
   ]
  },
  {
   "cell_type": "markdown",
   "id": "1fab1daa",
   "metadata": {},
   "source": [
    "Expectation:\n",
    "$$\n",
    "\\begin{align*}\n",
    "\\gamma(z_k)=\\frac{\\pi_k\\mathcal{N}(x;\\mu_k, \\Sigma_k)}{\\sum_j \\pi_j\\mathcal{N}(x;\\mu_j, \\Sigma_j)}\n",
    "\\end{align*}\n",
    "$$"
   ]
  },
  {
   "cell_type": "code",
   "execution_count": 112,
   "id": "3e934cbb",
   "metadata": {},
   "outputs": [],
   "source": [
    "def expectation():\n",
    "    gamma = np.zeros((len(X), K))\n",
    "\n",
    "    for n in range(N):\n",
    "        denom = 0\n",
    "        for k in range(K):\n",
    "            nom = pi[k] * globals()[f'p{k}'].pdf(X[n])\n",
    "            gamma[n][k] = nom\n",
    "            denom += nom\n",
    "        gamma[n] /= denom\n",
    "    return gamma"
   ]
  },
  {
   "cell_type": "markdown",
   "id": "5c34ca03",
   "metadata": {},
   "source": [
    "Maximization:\n",
    "$$\n",
    "\\begin{align*}\n",
    "\\mu_k^\\text{new} &= \\frac{1}{N_k}\\sum_N \\gamma(z_{nk}) x_n\\\\\n",
    "\\Sigma_k^\\text{new} &= \\frac{1}{N_k}\\sum_N \\gamma(z_{nk})(x_n - \\mu_k^\\text{new})(x_n - \\mu_k^\\text{new})^T\\\\\n",
    "\\pi_k^\\text{new} &= \\frac{N_k}{N}\n",
    "\\end{align*}\n",
    "$$"
   ]
  },
  {
   "cell_type": "code",
   "execution_count": 113,
   "id": "7611f6c7",
   "metadata": {},
   "outputs": [],
   "source": [
    "def maximization(gamma):\n",
    "    for k in range(K):\n",
    "        N_k = np.sum(gamma[:, k])\n",
    "        # new mean first\n",
    "        mu_new = np.zeros(2)\n",
    "        for n in range(N):\n",
    "            mu_new += gamma[n][k] * X[n]\n",
    "        mu_new /= N_k\n",
    "        # then new covariance\n",
    "        cov_new = np.zeros((2, 2))\n",
    "        for n in range(N):\n",
    "            diff = X[n] - mu_new\n",
    "            cov_new += gamma[n][k] * np.outer(diff, diff)\n",
    "        cov_new /= N_k\n",
    "        globals()[f'm{k}'] = mu_new\n",
    "        globals()[f'cov{k}'] = cov_new\n",
    "        pi[k] = N_k / N"
   ]
  },
  {
   "cell_type": "markdown",
   "id": "c5438298",
   "metadata": {},
   "source": [
    "Iterate"
   ]
  },
  {
   "cell_type": "code",
   "execution_count": 114,
   "id": "2cbb5cc9",
   "metadata": {},
   "outputs": [],
   "source": [
    "loglik = []\n",
    "for i in range(20):\n",
    "    update_normal()\n",
    "    loglik.append(evaluate())\n",
    "    maximization(expectation())"
   ]
  },
  {
   "cell_type": "code",
   "execution_count": 115,
   "id": "0ce2b33e",
   "metadata": {},
   "outputs": [
    {
     "data": {
      "text/plain": [
       "[<matplotlib.lines.Line2D at 0x7f822d93d040>]"
      ]
     },
     "execution_count": 115,
     "metadata": {},
     "output_type": "execute_result"
    },
    {
     "data": {
      "image/png": "[encoded data removed]",
      "text/plain": [
       "<Figure size 432x288 with 1 Axes>"
      ]
     },
     "metadata": {
      "needs_background": "light"
     },
     "output_type": "display_data"
    }
   ],
   "source": [
    "plt.plot(loglik)"
   ]
  },
  {
   "cell_type": "code",
   "execution_count": 118,
   "id": "fc9bb219",
   "metadata": {},
   "outputs": [
    {
     "data": {
      "text/plain": [
       "(array([-3.05275206, -3.65314494]),\n",
       " array([-0.79671277,  0.15501593]),\n",
       " array([3.17428623, 2.82646976]))"
      ]
     },
     "execution_count": 118,
     "metadata": {},
     "output_type": "execute_result"
    }
   ],
   "source": [
    "m0, m1, m2"
   ]
  },
  {
   "cell_type": "code",
   "execution_count": 119,
   "id": "2412e53a",
   "metadata": {},
   "outputs": [
    {
     "data": {
      "text/plain": [
       "(array([[0.5192079 , 0.32665688],\n",
       "        [0.32665688, 3.10352584]]),\n",
       " array([[ 2.37700707, -0.05816294],\n",
       "        [-0.05816294,  0.34631836]]),\n",
       " array([[0.79257978, 0.24995004],\n",
       "        [0.24995004, 2.52585223]]))"
      ]
     },
     "execution_count": 119,
     "metadata": {},
     "output_type": "execute_result"
    }
   ],
   "source": [
    "cov0, cov1, cov2"
   ]
  },
  {
   "cell_type": "code",
   "execution_count": 120,
   "id": "4329b550",
   "metadata": {},
   "outputs": [
    {
     "data": {
      "text/plain": [
       "<matplotlib.collections.PathCollection at 0x7f822db19940>"
      ]
     },
     "execution_count": 120,
     "metadata": {},
     "output_type": "execute_result"
    },
    {
     "data": {
      "image/png": "[encoded data removed]",
      "text/plain": [
       "<Figure size 432x288 with 1 Axes>"
      ]
     },
     "metadata": {
      "needs_background": "light"
     },
     "output_type": "display_data"
    }
   ],
   "source": [
    "plt.scatter(X[:,0], X[:,1], c=c)\n",
    "plt.scatter(m0[0], m0[1], c='red', marker='x')\n",
    "plt.scatter(m1[0], m1[1], c='red', marker='x')\n",
    "plt.scatter(m2[0], m2[1], c='red', marker='x')"
   ]
  },
  {
   "cell_type": "code",
   "execution_count": null,
   "id": "aa6b63a2",
   "metadata": {},
   "outputs": [],
   "source": []
  }
 ],
 "metadata": {
  "kernelspec": {
   "display_name": "Python 3",
   "language": "python",
   "name": "python3"
  },
  "language_info": {
   "codemirror_mode": {
    "name": "ipython",
    "version": 3
   },
   "file_extension": ".py",
   "mimetype": "text/x-python",
   "name": "python",
   "nbconvert_exporter": "python",
   "pygments_lexer": "ipython3",
   "version": "3.9.4"
  }
 },
 "nbformat": 4,
 "nbformat_minor": 5
}
