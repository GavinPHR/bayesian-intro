{
 "cells": [
  {
   "cell_type": "code",
   "execution_count": 1,
   "id": "7765ce9e",
   "metadata": {},
   "outputs": [],
   "source": [
    "import numpy as np\n",
    "import scipy as sp\n",
    "import matplotlib.pyplot as plt\n",
    "%matplotlib inline"
   ]
  },
  {
   "cell_type": "markdown",
   "id": "e7970569",
   "metadata": {},
   "source": [
    "Gaussian Mixture\n",
    "\n",
    "$\\{x_n\\}$ are observed, each with a corresponding $z_n$ that takes value 0 or 1. If $z_{nk} = 1$ means $x_n$ belongs to cluster $k$. \n",
    "\n",
    "With one datapoint $x$ and the corresponding $z$, let's just write down some useful quantities:\n",
    "$$\n",
    "\\begin{align*}\n",
    "p(z_k = 1) &= \\pi_k\\\\\n",
    "p(x\\mid z_k = 1) &= \\mathcal{N}(x; \\mu_k, \\Sigma_k)\\\\\n",
    "p(x) &= \\sum_k p(x\\mid z_k = 1) p(z_k = 1)\\\\\n",
    "&=\\sum_k \\pi_k\\mathcal{N}(x;\\mu_k, \\Sigma_k)\\\\\n",
    "p(z_k = 1\\mid x) &= \\frac{p(x\\mid z_k = 1)p(z_k = 1)}{p(x)}\\\\\n",
    "&=\\frac{\\pi_k\\mathcal{N}(x;\\mu_k, \\Sigma_k)}{\\sum_j \\pi_j\\mathcal{N}(x;\\mu_j, \\Sigma_j)}\\\\\n",
    "&=\\gamma(z_k)\n",
    "\\end{align*}\n",
    "$$\n",
    "\n",
    "The log-likelihood, where $\\theta = \\{\\mu, \\Sigma, \\pi\\}$:\n",
    "$$\n",
    "\\begin{align*}\n",
    "\\mathcal{LL} &= \\log p(X\\mid \\theta) = \\log \\prod_N p(x_n\\mid \\theta)\\\\\n",
    "&=\\sum_N \\log \\sum_K \\pi_k\\mathcal{N}(x_n;\\mu_k, \\Sigma_k)\n",
    "\\end{align*}\n",
    "$$\n",
    "\n",
    "Partial derivative against $\\mu_k$:\n",
    "$$\n",
    "\\begin{align*}\n",
    "\\frac{\\partial \\mathcal{LL}}{\\partial \\mu_k} &=\\sum_N \\frac{1}{\\sum_K \\pi_k\\mathcal{N}(x_n;\\mu_k, \\Sigma_k)} \\frac{\\partial \\ \\pi_k\\mathcal{N}(x_n;\\mu_k, \\Sigma_k)}{\\partial \\mu_k} \\\\\n",
    "&=\\sum_N \\frac{\\pi_k\\mathcal{N}(x_n;\\mu_k, \\Sigma_k)}{\\sum_K \\pi_k\\mathcal{N}(x_n;\\mu_k, \\Sigma_k)} \\Sigma^{-1}(x_n - \\mu_k) \\\\\n",
    "&=\\Sigma^{-1}\\sum_N \\gamma(z_{nk}) (x_n - \\mu_k) \n",
    "\\end{align*}\n",
    "$$\n",
    "Set to 0:\n",
    "$$\n",
    "\\begin{align*}\n",
    "\\Sigma^{-1}\\sum_N \\gamma(z_{nk}) (x_n - \\mu_k) &= 0\\\\\n",
    "\\sum_N \\gamma(z_{nk}) x_n  &= \\mu_k\\sum_N \\gamma(z_{nk})\\\\\n",
    "\\mu_k &= \\frac{1}{\\sum_N \\gamma(z_{nk})}\\sum_N \\gamma(z_{nk}) x_n\\\\\n",
    "\\mu_k^\\text{new} &= \\frac{1}{N_k}\\sum_N \\gamma(z_{nk}) x_n\n",
    "\\end{align*}\n",
    "$$\n",
    "\n",
    "Doing similar calculations for $\\Sigma$ and $\\pi$, (though $\\pi$ needs to sum to 1 with lagrange multiplier):\n",
    "$$\n",
    "\\begin{align*}\n",
    "\\Sigma_k^\\text{new} &= \\frac{1}{N_k}\\sum_N \\gamma(z_{nk})(x_n - \\mu_k^\\text{new})(x_n - \\mu_k^\\text{new})^T\\\\\n",
    "\\pi_k^\\text{new} &= \\frac{N_k}{N}\n",
    "\\end{align*}\n",
    "$$"
   ]
  },
  {
   "cell_type": "markdown",
   "id": "ba6f4b44",
   "metadata": {},
   "source": [
    "In the previous block, the $\\gamma(z_{nk})$ quantity is of special interest. It can be seen as a $N\\times K$ matrix of $z$-values, and the $\\gamma$ function is picking them out. Each row of the matrix sum to 1 (i.e. $\\sum_k \\gamma(z_{nk}) = 1$) and each column sum to $N_k = \\sum_n \\gamma(z_{nk})$. Row $n$ shows how likely $x_n$ belongs to each cluster and $N_k$ is the \"number\" of points assigned to cluter $k$."
   ]
  },
  {
   "cell_type": "markdown",
   "id": "97de4250",
   "metadata": {},
   "source": [
    "1. E: evaluate $\\gamma$ fixing $\\theta$\n",
    "2. M: new $\\theta$ using update rules\n",
    "3. Evaluate likelihood"
   ]
  },
  {
   "cell_type": "code",
   "execution_count": null,
   "id": "cd2b1d6b",
   "metadata": {},
   "outputs": [],
   "source": []
  },
  {
   "cell_type": "code",
   "execution_count": null,
   "id": "d21daa9f",
   "metadata": {},
   "outputs": [],
   "source": []
  }
 ],
 "metadata": {
  "kernelspec": {
   "display_name": "Python 3",
   "language": "python",
   "name": "python3"
  },
  "language_info": {
   "codemirror_mode": {
    "name": "ipython",
    "version": 3
   },
   "file_extension": ".py",
   "mimetype": "text/x-python",
   "name": "python",
   "nbconvert_exporter": "python",
   "pygments_lexer": "ipython3",
   "version": "3.9.4"
  }
 },
 "nbformat": 4,
 "nbformat_minor": 5
}
